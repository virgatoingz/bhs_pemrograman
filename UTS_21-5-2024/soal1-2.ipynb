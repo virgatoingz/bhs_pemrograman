{
 "cells": [
  {
   "cell_type": "code",
   "execution_count": null,
   "metadata": {},
   "outputs": [],
   "source": []
  },
  {
   "cell_type": "markdown",
   "metadata": {},
   "source": [
    "#1\n",
    "\n",
    "1. pemrograman prosedural = pemrograman imperatif berdasarkan konsep pemanggilan prosedur\n",
    "2. pemrograman berorientasi objek = pemrograman berdasarkan obejk yang berisi data dan kode\n",
    "3. pemrograman deklaratif = menjabarkan fakta atau aturan masalah dalam studi kasus\n",
    "4. pemrograman fungsional = pemrograman yang menggunakan pemanggilan fungsi setiap bagian program dapat dipahami sebagai fungsi "
   ]
  },
  {
   "cell_type": "markdown",
   "metadata": {},
   "source": [
    "#2\n",
    "1. model data = cara untuk mendefinisikan dan mengatur struktur data dalam program\n",
    "2. operator = simbol yang digunakan untuk melakukan operasi pada variable dan nilai\n",
    "3. seleksi = struktur kontrol yang digunakan untuk membuat keputusan berdasarkan kondisi tertentu\n",
    "4. fungsi = sebuah syntax yang didefinisikan untuk tugas tertentu yang dapat dipanggil berulang kali"
   ]
  }
 ],
 "metadata": {
  "language_info": {
   "name": "python"
  }
 },
 "nbformat": 4,
 "nbformat_minor": 2
}
